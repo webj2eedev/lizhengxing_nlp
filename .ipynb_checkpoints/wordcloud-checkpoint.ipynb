{
 "cells": [
  {
   "cell_type": "code",
   "execution_count": 1,
   "id": "d5cd8876",
   "metadata": {
    "scrolled": true
   },
   "outputs": [
    {
     "name": "stdout",
     "output_type": "stream",
     "text": [
      "Collecting wordcloud\n",
      "  Obtaining dependency information for wordcloud from https://files.pythonhosted.org/packages/f5/b0/247159f61c5d5d6647171bef84430b7efad4db504f0229674024f3a4f7f2/wordcloud-1.9.3-cp311-cp311-win_amd64.whl.metadata\n",
      "  Downloading wordcloud-1.9.3-cp311-cp311-win_amd64.whl.metadata (3.5 kB)\n",
      "Requirement already satisfied: numpy>=1.6.1 in c:\\programdata\\anaconda3\\lib\\site-packages (from wordcloud) (1.24.3)\n",
      "Requirement already satisfied: pillow in c:\\programdata\\anaconda3\\lib\\site-packages (from wordcloud) (9.4.0)\n",
      "Requirement already satisfied: matplotlib in c:\\programdata\\anaconda3\\lib\\site-packages (from wordcloud) (3.7.2)\n",
      "Requirement already satisfied: contourpy>=1.0.1 in c:\\programdata\\anaconda3\\lib\\site-packages (from matplotlib->wordcloud) (1.0.5)\n",
      "Requirement already satisfied: cycler>=0.10 in c:\\programdata\\anaconda3\\lib\\site-packages (from matplotlib->wordcloud) (0.11.0)\n",
      "Requirement already satisfied: fonttools>=4.22.0 in c:\\programdata\\anaconda3\\lib\\site-packages (from matplotlib->wordcloud) (4.25.0)\n",
      "Requirement already satisfied: kiwisolver>=1.0.1 in c:\\programdata\\anaconda3\\lib\\site-packages (from matplotlib->wordcloud) (1.4.4)\n",
      "Requirement already satisfied: packaging>=20.0 in c:\\programdata\\anaconda3\\lib\\site-packages (from matplotlib->wordcloud) (23.1)\n",
      "Requirement already satisfied: pyparsing<3.1,>=2.3.1 in c:\\programdata\\anaconda3\\lib\\site-packages (from matplotlib->wordcloud) (3.0.9)\n",
      "Requirement already satisfied: python-dateutil>=2.7 in c:\\programdata\\anaconda3\\lib\\site-packages (from matplotlib->wordcloud) (2.8.2)\n",
      "Requirement already satisfied: six>=1.5 in c:\\programdata\\anaconda3\\lib\\site-packages (from python-dateutil>=2.7->matplotlib->wordcloud) (1.16.0)\n",
      "Downloading wordcloud-1.9.3-cp311-cp311-win_amd64.whl (300 kB)\n",
      "   ---------------------------------------- 0.0/300.2 kB ? eta -:--:--\n",
      "   - -------------------------------------- 10.2/300.2 kB ? eta -:--:--\n",
      "   --- ----------------------------------- 30.7/300.2 kB 435.7 kB/s eta 0:00:01\n",
      "   --- ----------------------------------- 30.7/300.2 kB 435.7 kB/s eta 0:00:01\n",
      "   --- ----------------------------------- 30.7/300.2 kB 435.7 kB/s eta 0:00:01\n",
      "   ----- --------------------------------- 41.0/300.2 kB 163.4 kB/s eta 0:00:02\n",
      "   ---------- ---------------------------- 81.9/300.2 kB 286.7 kB/s eta 0:00:01\n",
      "   ----------- --------------------------- 92.2/300.2 kB 291.5 kB/s eta 0:00:01\n",
      "   ----------- --------------------------- 92.2/300.2 kB 291.5 kB/s eta 0:00:01\n",
      "   ----------- --------------------------- 92.2/300.2 kB 291.5 kB/s eta 0:00:01\n",
      "   ------------------ ------------------- 143.4/300.2 kB 303.9 kB/s eta 0:00:01\n",
      "   ------------------------ ------------- 194.6/300.2 kB 380.0 kB/s eta 0:00:01\n",
      "   ---------------------------- --------- 225.3/300.2 kB 430.1 kB/s eta 0:00:01\n",
      "   ---------------------------- --------- 225.3/300.2 kB 430.1 kB/s eta 0:00:01\n",
      "   ----------------------------------- -- 276.5/300.2 kB 436.5 kB/s eta 0:00:01\n",
      "   -------------------------------------- 300.2/300.2 kB 442.0 kB/s eta 0:00:00\n",
      "Installing collected packages: wordcloud\n",
      "Successfully installed wordcloud-1.9.3\n",
      "Note: you may need to restart the kernel to use updated packages.\n"
     ]
    }
   ],
   "source": [
    "pip install wordcloud"
   ]
  },
  {
   "cell_type": "code",
   "execution_count": 2,
   "id": "6602e618",
   "metadata": {
    "scrolled": true
   },
   "outputs": [
    {
     "name": "stdout",
     "output_type": "stream",
     "text": [
      "Collecting jieba\n",
      "  Downloading jieba-0.42.1.tar.gz (19.2 MB)\n",
      "     ---------------------------------------- 0.0/19.2 MB ? eta -:--:--\n",
      "     ---------------------------------------- 0.0/19.2 MB ? eta -:--:--\n",
      "     --------------------------------------- 0.0/19.2 MB 325.1 kB/s eta 0:01:00\n",
      "     --------------------------------------- 0.0/19.2 MB 325.1 kB/s eta 0:01:00\n",
      "     --------------------------------------- 0.0/19.2 MB 325.1 kB/s eta 0:01:00\n",
      "     --------------------------------------- 0.0/19.2 MB 140.3 kB/s eta 0:02:17\n",
      "     --------------------------------------- 0.1/19.2 MB 204.8 kB/s eta 0:01:34\n",
      "     --------------------------------------- 0.1/19.2 MB 275.8 kB/s eta 0:01:10\n",
      "     --------------------------------------- 0.1/19.2 MB 275.8 kB/s eta 0:01:10\n",
      "     --------------------------------------- 0.1/19.2 MB 275.8 kB/s eta 0:01:10\n",
      "     --------------------------------------- 0.1/19.2 MB 257.2 kB/s eta 0:01:15\n",
      "     --------------------------------------- 0.2/19.2 MB 368.6 kB/s eta 0:00:52\n",
      "     --------------------------------------- 0.2/19.2 MB 405.0 kB/s eta 0:00:47\n",
      "     --------------------------------------- 0.2/19.2 MB 405.0 kB/s eta 0:00:47\n",
      "      -------------------------------------- 0.3/19.2 MB 393.2 kB/s eta 0:00:49\n",
      "      -------------------------------------- 0.4/19.2 MB 506.0 kB/s eta 0:00:38\n",
      "      -------------------------------------- 0.5/19.2 MB 599.1 kB/s eta 0:00:32\n",
      "      -------------------------------------- 0.5/19.2 MB 628.3 kB/s eta 0:00:30\n",
      "     - ------------------------------------- 0.5/19.2 MB 606.0 kB/s eta 0:00:31\n",
      "     - ------------------------------------- 0.6/19.2 MB 725.6 kB/s eta 0:00:26\n",
      "     - ------------------------------------- 0.8/19.2 MB 877.4 kB/s eta 0:00:21\n",
      "     - ------------------------------------- 1.0/19.2 MB 988.5 kB/s eta 0:00:19\n",
      "     -- ------------------------------------- 1.0/19.2 MB 1.0 MB/s eta 0:00:18\n",
      "     -- ------------------------------------- 1.1/19.2 MB 1.1 MB/s eta 0:00:17\n",
      "     -- ------------------------------------- 1.1/19.2 MB 1.1 MB/s eta 0:00:17\n",
      "     -- ------------------------------------- 1.3/19.2 MB 1.1 MB/s eta 0:00:17\n",
      "     --- ------------------------------------ 1.9/19.2 MB 1.5 MB/s eta 0:00:12\n",
      "     ---- ----------------------------------- 2.2/19.2 MB 1.7 MB/s eta 0:00:10\n",
      "     ----- ---------------------------------- 2.6/19.2 MB 2.0 MB/s eta 0:00:09\n",
      "     ------ --------------------------------- 3.2/19.2 MB 2.4 MB/s eta 0:00:07\n",
      "     -------- ------------------------------- 3.9/19.2 MB 2.8 MB/s eta 0:00:06\n",
      "     -------- ------------------------------- 4.2/19.2 MB 3.0 MB/s eta 0:00:06\n",
      "     --------- ------------------------------ 4.6/19.2 MB 3.1 MB/s eta 0:00:05\n",
      "     ----------- ---------------------------- 5.4/19.2 MB 3.5 MB/s eta 0:00:04\n",
      "     ------------- -------------------------- 6.3/19.2 MB 4.0 MB/s eta 0:00:04\n",
      "     -------------- ------------------------- 7.2/19.2 MB 4.5 MB/s eta 0:00:03\n",
      "     --------------- ------------------------ 7.3/19.2 MB 4.4 MB/s eta 0:00:03\n",
      "     ----------------- ---------------------- 8.4/19.2 MB 4.9 MB/s eta 0:00:03\n",
      "     ------------------ --------------------- 9.0/19.2 MB 5.2 MB/s eta 0:00:02\n",
      "     --------------------- ------------------ 10.1/19.2 MB 5.7 MB/s eta 0:00:02\n",
      "     --------------------- ------------------ 10.3/19.2 MB 6.5 MB/s eta 0:00:02\n",
      "     ---------------------- ----------------- 10.8/19.2 MB 9.9 MB/s eta 0:00:01\n",
      "     ---------------------- ----------------- 10.8/19.2 MB 9.9 MB/s eta 0:00:01\n",
      "     ---------------------- ----------------- 10.8/19.2 MB 9.9 MB/s eta 0:00:01\n",
      "     ---------------------- ----------------- 10.8/19.2 MB 9.9 MB/s eta 0:00:01\n",
      "     ---------------------- ----------------- 10.8/19.2 MB 9.9 MB/s eta 0:00:01\n",
      "     ---------------------- ----------------- 10.8/19.2 MB 9.9 MB/s eta 0:00:01\n",
      "     ----------------------- ---------------- 11.2/19.2 MB 8.6 MB/s eta 0:00:01\n",
      "     ------------------------ -------------- 12.2/19.2 MB 10.4 MB/s eta 0:00:01\n",
      "     -------------------------- ------------ 12.9/19.2 MB 10.9 MB/s eta 0:00:01\n",
      "     --------------------------- ----------- 13.8/19.2 MB 11.1 MB/s eta 0:00:01\n",
      "     --------------------------- ----------- 13.8/19.2 MB 10.4 MB/s eta 0:00:01\n",
      "     ---------------------------- ---------- 13.9/19.2 MB 10.2 MB/s eta 0:00:01\n",
      "     ----------------------------- ---------- 14.2/19.2 MB 9.9 MB/s eta 0:00:01\n",
      "     ------------------------------ -------- 15.0/19.2 MB 10.2 MB/s eta 0:00:01\n",
      "     -------------------------------- ------ 15.8/19.2 MB 10.1 MB/s eta 0:00:01\n",
      "     -------------------------------- ------ 16.2/19.2 MB 10.1 MB/s eta 0:00:01\n",
      "     ---------------------------------- ---- 17.0/19.2 MB 10.1 MB/s eta 0:00:01\n",
      "     ----------------------------------- ---- 17.1/19.2 MB 9.6 MB/s eta 0:00:01\n",
      "     ----------------------------------- ---- 17.1/19.2 MB 9.6 MB/s eta 0:00:01\n",
      "     ----------------------------------- ---- 17.1/19.2 MB 9.6 MB/s eta 0:00:01\n",
      "     ----------------------------------- ---- 17.1/19.2 MB 9.6 MB/s eta 0:00:01\n",
      "     ----------------------------------- ---- 17.1/19.2 MB 9.6 MB/s eta 0:00:01\n",
      "     ----------------------------------- ---- 17.1/19.2 MB 9.6 MB/s eta 0:00:01\n",
      "     ------------------------------------- -- 18.1/19.2 MB 8.1 MB/s eta 0:00:01\n",
      "     ---------------------------------------  18.8/19.2 MB 8.1 MB/s eta 0:00:01\n",
      "     ---------------------------------------  19.2/19.2 MB 8.1 MB/s eta 0:00:01\n",
      "     ---------------------------------------  19.2/19.2 MB 8.1 MB/s eta 0:00:01\n",
      "     ---------------------------------------  19.2/19.2 MB 8.1 MB/s eta 0:00:01\n",
      "     ---------------------------------------  19.2/19.2 MB 8.1 MB/s eta 0:00:01\n",
      "     ---------------------------------------  19.2/19.2 MB 8.1 MB/s eta 0:00:01\n",
      "     ---------------------------------------  19.2/19.2 MB 8.1 MB/s eta 0:00:01\n",
      "     ---------------------------------------  19.2/19.2 MB 8.1 MB/s eta 0:00:01\n",
      "     ---------------------------------------  19.2/19.2 MB 8.1 MB/s eta 0:00:01\n",
      "     ---------------------------------------  19.2/19.2 MB 8.1 MB/s eta 0:00:01\n",
      "     ---------------------------------------  19.2/19.2 MB 8.1 MB/s eta 0:00:01\n",
      "     ---------------------------------------  19.2/19.2 MB 8.1 MB/s eta 0:00:01\n",
      "     ---------------------------------------  19.2/19.2 MB 8.1 MB/s eta 0:00:01\n",
      "     ---------------------------------------  19.2/19.2 MB 8.1 MB/s eta 0:00:01\n",
      "     ---------------------------------------  19.2/19.2 MB 8.1 MB/s eta 0:00:01\n",
      "     ---------------------------------------  19.2/19.2 MB 8.1 MB/s eta 0:00:01\n",
      "     ---------------------------------------  19.2/19.2 MB 8.1 MB/s eta 0:00:01\n",
      "     ---------------------------------------  19.2/19.2 MB 8.1 MB/s eta 0:00:01\n",
      "     ---------------------------------------  19.2/19.2 MB 8.1 MB/s eta 0:00:01\n",
      "     ---------------------------------------  19.2/19.2 MB 8.1 MB/s eta 0:00:01\n",
      "     ---------------------------------------  19.2/19.2 MB 8.1 MB/s eta 0:00:01\n",
      "     ---------------------------------------  19.2/19.2 MB 8.1 MB/s eta 0:00:01\n",
      "     ---------------------------------------  19.2/19.2 MB 8.1 MB/s eta 0:00:01\n",
      "     ---------------------------------------  19.2/19.2 MB 8.1 MB/s eta 0:00:01\n",
      "     ---------------------------------------  19.2/19.2 MB 8.1 MB/s eta 0:00:01\n",
      "     ---------------------------------------  19.2/19.2 MB 8.1 MB/s eta 0:00:01\n",
      "     ---------------------------------------  19.2/19.2 MB 8.1 MB/s eta 0:00:01\n",
      "     ---------------------------------------- 19.2/19.2 MB 4.1 MB/s eta 0:00:00\n",
      "  Preparing metadata (setup.py): started\n",
      "  Preparing metadata (setup.py): finished with status 'done'\n",
      "Building wheels for collected packages: jieba\n",
      "  Building wheel for jieba (setup.py): started\n",
      "  Building wheel for jieba (setup.py): finished with status 'done'\n",
      "  Created wheel for jieba: filename=jieba-0.42.1-py3-none-any.whl size=19314474 sha256=b2f20667072577039e56af4e9c706dc6120518a3d4a5deae339ed5a5650b3a39\n",
      "  Stored in directory: c:\\users\\administrator\\appdata\\local\\pip\\cache\\wheels\\ac\\60\\cf\\538a1f183409caf1fc136b5d2c2dee329001ef6da2c5084bef\n",
      "Successfully built jieba\n",
      "Installing collected packages: jieba\n",
      "Successfully installed jieba-0.42.1\n",
      "Note: you may need to restart the kernel to use updated packages.\n"
     ]
    }
   ],
   "source": [
    "pip install jieba"
   ]
  },
  {
   "cell_type": "code",
   "execution_count": 25,
   "id": "b062f46b",
   "metadata": {},
   "outputs": [],
   "source": [
    "import numpy as np\n",
    "from PIL import Image\n",
    "rawimage = Image.open('cat.png').convert(\"L\")\n",
    "threshold = 0\n",
    "image = rawimage.point(lambda p: 0 if p > threshold else 255)\n",
    "mask = np.array(image)"
   ]
  },
  {
   "cell_type": "code",
   "execution_count": 3,
   "id": "e4e20c98",
   "metadata": {},
   "outputs": [],
   "source": [
    "with open('note.txt') as f:\n",
    "    mytext = f.read()"
   ]
  },
  {
   "cell_type": "code",
   "execution_count": 27,
   "id": "8465a573",
   "metadata": {},
   "outputs": [
    {
     "ename": "AttributeError",
     "evalue": "ndim",
     "output_type": "error",
     "traceback": [
      "\u001b[1;31m---------------------------------------------------------------------------\u001b[0m",
      "\u001b[1;31mAttributeError\u001b[0m                            Traceback (most recent call last)",
      "Cell \u001b[1;32mIn[27], line 12\u001b[0m\n\u001b[0;32m      1\u001b[0m \u001b[38;5;28;01mfrom\u001b[39;00m \u001b[38;5;21;01mwordcloud\u001b[39;00m \u001b[38;5;28;01mimport\u001b[39;00m WordCloud,ImageColorGenerator\n\u001b[0;32m      2\u001b[0m wordcloud \u001b[38;5;241m=\u001b[39m WordCloud(\n\u001b[0;32m      3\u001b[0m     font_path\u001b[38;5;241m=\u001b[39m\u001b[38;5;124m'\u001b[39m\u001b[38;5;124mmsyhl.ttc\u001b[39m\u001b[38;5;124m'\u001b[39m,\n\u001b[0;32m      4\u001b[0m     mask\u001b[38;5;241m=\u001b[39mmask,\n\u001b[1;32m   (...)\u001b[0m\n\u001b[0;32m      9\u001b[0m     contour_color\u001b[38;5;241m=\u001b[39m\u001b[38;5;124m\"\u001b[39m\u001b[38;5;124mblack\u001b[39m\u001b[38;5;124m\"\u001b[39m,\n\u001b[0;32m     10\u001b[0m )\u001b[38;5;241m.\u001b[39mgenerate(mytext)\n\u001b[1;32m---> 12\u001b[0m color_generator\u001b[38;5;241m=\u001b[39mImageColorGenerator(image)\n\u001b[0;32m     14\u001b[0m get_ipython()\u001b[38;5;241m.\u001b[39mrun_line_magic(\u001b[38;5;124m'\u001b[39m\u001b[38;5;124mmatplotlib\u001b[39m\u001b[38;5;124m'\u001b[39m, \u001b[38;5;124m'\u001b[39m\u001b[38;5;124minline\u001b[39m\u001b[38;5;124m'\u001b[39m)\n\u001b[0;32m     15\u001b[0m \u001b[38;5;28;01mimport\u001b[39;00m \u001b[38;5;21;01mmatplotlib\u001b[39;00m\u001b[38;5;21;01m.\u001b[39;00m\u001b[38;5;21;01mpyplot\u001b[39;00m \u001b[38;5;28;01mas\u001b[39;00m \u001b[38;5;21;01mplt\u001b[39;00m\n",
      "File \u001b[1;32mC:\\ProgramData\\anaconda3\\Lib\\site-packages\\wordcloud\\color_from_image.py:25\u001b[0m, in \u001b[0;36mImageColorGenerator.__init__\u001b[1;34m(self, image, default_color)\u001b[0m\n\u001b[0;32m     24\u001b[0m \u001b[38;5;28;01mdef\u001b[39;00m \u001b[38;5;21m__init__\u001b[39m(\u001b[38;5;28mself\u001b[39m, image, default_color\u001b[38;5;241m=\u001b[39m\u001b[38;5;28;01mNone\u001b[39;00m):\n\u001b[1;32m---> 25\u001b[0m     \u001b[38;5;28;01mif\u001b[39;00m image\u001b[38;5;241m.\u001b[39mndim \u001b[38;5;129;01mnot\u001b[39;00m \u001b[38;5;129;01min\u001b[39;00m [\u001b[38;5;241m2\u001b[39m, \u001b[38;5;241m3\u001b[39m]:\n\u001b[0;32m     26\u001b[0m         \u001b[38;5;28;01mraise\u001b[39;00m \u001b[38;5;167;01mValueError\u001b[39;00m(\u001b[38;5;124m\"\u001b[39m\u001b[38;5;124mImageColorGenerator needs an image with ndim 2 or\u001b[39m\u001b[38;5;124m\"\u001b[39m\n\u001b[0;32m     27\u001b[0m                          \u001b[38;5;124m\"\u001b[39m\u001b[38;5;124m 3, got \u001b[39m\u001b[38;5;132;01m%d\u001b[39;00m\u001b[38;5;124m\"\u001b[39m \u001b[38;5;241m%\u001b[39m image\u001b[38;5;241m.\u001b[39mndim)\n\u001b[0;32m     28\u001b[0m     \u001b[38;5;28;01mif\u001b[39;00m image\u001b[38;5;241m.\u001b[39mndim \u001b[38;5;241m==\u001b[39m \u001b[38;5;241m3\u001b[39m \u001b[38;5;129;01mand\u001b[39;00m image\u001b[38;5;241m.\u001b[39mshape[\u001b[38;5;241m2\u001b[39m] \u001b[38;5;129;01mnot\u001b[39;00m \u001b[38;5;129;01min\u001b[39;00m [\u001b[38;5;241m3\u001b[39m, \u001b[38;5;241m4\u001b[39m]:\n",
      "File \u001b[1;32mC:\\ProgramData\\anaconda3\\Lib\\site-packages\\PIL\\Image.py:529\u001b[0m, in \u001b[0;36mImage.__getattr__\u001b[1;34m(self, name)\u001b[0m\n\u001b[0;32m    527\u001b[0m     deprecate(\u001b[38;5;124m\"\u001b[39m\u001b[38;5;124mImage categories\u001b[39m\u001b[38;5;124m\"\u001b[39m, \u001b[38;5;241m10\u001b[39m, \u001b[38;5;124m\"\u001b[39m\u001b[38;5;124mis_animated\u001b[39m\u001b[38;5;124m\"\u001b[39m, plural\u001b[38;5;241m=\u001b[39m\u001b[38;5;28;01mTrue\u001b[39;00m)\n\u001b[0;32m    528\u001b[0m     \u001b[38;5;28;01mreturn\u001b[39;00m \u001b[38;5;28mself\u001b[39m\u001b[38;5;241m.\u001b[39m_category\n\u001b[1;32m--> 529\u001b[0m \u001b[38;5;28;01mraise\u001b[39;00m \u001b[38;5;167;01mAttributeError\u001b[39;00m(name)\n",
      "\u001b[1;31mAttributeError\u001b[0m: ndim"
     ]
    }
   ],
   "source": [
    "from wordcloud import WordCloud,ImageColorGenerator\n",
    "wordcloud = WordCloud(\n",
    "    font_path='msyhl.ttc',\n",
    "    mask=mask,\n",
    "    background_color=\"white\",\n",
    "    width=1024,\n",
    "    height=768,\n",
    "    contour_width=1,\n",
    "    contour_color=\"black\",\n",
    ").generate(mytext)\n",
    "\n",
    "# color_generator=ImageColorGenerator(image)\n",
    "\n",
    "%matplotlib inline\n",
    "import matplotlib.pyplot as plt\n",
    "plt.imshow(wordcloud, interpolation='bilinear')\n",
    "plt.axis('off')\n",
    "\n",
    "wordcloud.to_file('cloud.jpg')"
   ]
  },
  {
   "cell_type": "code",
   "execution_count": null,
   "id": "77261d0b",
   "metadata": {},
   "outputs": [],
   "source": []
  }
 ],
 "metadata": {
  "kernelspec": {
   "display_name": "Python 3 (ipykernel)",
   "language": "python",
   "name": "python3"
  },
  "language_info": {
   "codemirror_mode": {
    "name": "ipython",
    "version": 3
   },
   "file_extension": ".py",
   "mimetype": "text/x-python",
   "name": "python",
   "nbconvert_exporter": "python",
   "pygments_lexer": "ipython3",
   "version": "3.11.5"
  }
 },
 "nbformat": 4,
 "nbformat_minor": 5
}
